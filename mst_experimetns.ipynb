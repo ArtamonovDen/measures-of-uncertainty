{
 "cells": [
  {
   "cell_type": "markdown",
   "metadata": {},
   "source": [
    "# Эксперименты с MST"
   ]
  },
  {
   "cell_type": "code",
   "execution_count": 2,
   "metadata": {},
   "outputs": [
    {
     "data": {
      "text/plain": [
       "<module 'k_scripts.measures_scripts' from '/home/friday/_homescript/measures-of-uncertainty/k_scripts/measures_scripts.py'>"
      ]
     },
     "execution_count": 2,
     "metadata": {},
     "output_type": "execute_result"
    }
   ],
   "source": [
    "import numpy as np\n",
    "import pandas as pd\n",
    "from datetime import datetime\n",
    "import networkx as nx\n",
    "import matplotlib.pyplot as plt\n",
    "import k_scripts.finance_scripts as fs\n",
    "import k_scripts.network_scripts as ns\n",
    "import k_scripts.sampler_scripts as ss\n",
    "import k_scripts.measures_scripts as ms\n",
    "import k_scripts.experiments_script as es\n",
    "import seaborn as sn\n",
    "from tqdm import tqdm\n",
    "import importlib\n",
    "import json \n",
    "\n",
    "importlib.reload(ns)\n",
    "importlib.reload(es)\n",
    "importlib.reload(ms)"
   ]
  },
  {
   "cell_type": "code",
   "execution_count": 62,
   "metadata": {},
   "outputs": [],
   "source": [
    "path = './data/NASDAQ/NASDAQ_18_19_Close.csv'\n",
    "dClose = pd.read_csv(path,index_col='Date')\n",
    "R = fs.get_daily_returns(dClose)"
   ]
  },
  {
   "cell_type": "code",
   "execution_count": 66,
   "metadata": {},
   "outputs": [],
   "source": [
    "assert not dClose.isnull().values.any()"
   ]
  },
  {
   "cell_type": "code",
   "execution_count": 67,
   "metadata": {},
   "outputs": [
    {
     "data": {
      "text/html": [
       "<div>\n",
       "<style scoped>\n",
       "    .dataframe tbody tr th:only-of-type {\n",
       "        vertical-align: middle;\n",
       "    }\n",
       "\n",
       "    .dataframe tbody tr th {\n",
       "        vertical-align: top;\n",
       "    }\n",
       "\n",
       "    .dataframe thead th {\n",
       "        text-align: right;\n",
       "    }\n",
       "</style>\n",
       "<table border=\"1\" class=\"dataframe\">\n",
       "  <thead>\n",
       "    <tr style=\"text-align: right;\">\n",
       "      <th></th>\n",
       "      <th>AAL</th>\n",
       "      <th>AAPL</th>\n",
       "      <th>AMD</th>\n",
       "      <th>AMZN</th>\n",
       "      <th>ARCC</th>\n",
       "      <th>ATHX</th>\n",
       "      <th>ATRA</th>\n",
       "      <th>ATVI</th>\n",
       "      <th>AVGO</th>\n",
       "      <th>AXAS</th>\n",
       "      <th>...</th>\n",
       "      <th>SQQQ</th>\n",
       "      <th>TOPS</th>\n",
       "      <th>TQQQ</th>\n",
       "      <th>TRNX</th>\n",
       "      <th>VISL</th>\n",
       "      <th>VXRT</th>\n",
       "      <th>WORX</th>\n",
       "      <th>XOG</th>\n",
       "      <th>XSPA</th>\n",
       "      <th>ZN</th>\n",
       "    </tr>\n",
       "    <tr>\n",
       "      <th>Date</th>\n",
       "      <th></th>\n",
       "      <th></th>\n",
       "      <th></th>\n",
       "      <th></th>\n",
       "      <th></th>\n",
       "      <th></th>\n",
       "      <th></th>\n",
       "      <th></th>\n",
       "      <th></th>\n",
       "      <th></th>\n",
       "      <th></th>\n",
       "      <th></th>\n",
       "      <th></th>\n",
       "      <th></th>\n",
       "      <th></th>\n",
       "      <th></th>\n",
       "      <th></th>\n",
       "      <th></th>\n",
       "      <th></th>\n",
       "      <th></th>\n",
       "      <th></th>\n",
       "    </tr>\n",
       "  </thead>\n",
       "  <tbody>\n",
       "    <tr>\n",
       "      <th>2018-01-03</th>\n",
       "      <td>-0.012342</td>\n",
       "      <td>-0.000174</td>\n",
       "      <td>0.050610</td>\n",
       "      <td>0.012694</td>\n",
       "      <td>-0.004407</td>\n",
       "      <td>0.005510</td>\n",
       "      <td>0.061599</td>\n",
       "      <td>0.015430</td>\n",
       "      <td>0.010876</td>\n",
       "      <td>-0.003914</td>\n",
       "      <td>...</td>\n",
       "      <td>-0.029838</td>\n",
       "      <td>0.083382</td>\n",
       "      <td>0.028858</td>\n",
       "      <td>-0.030772</td>\n",
       "      <td>0.000000</td>\n",
       "      <td>0.018349</td>\n",
       "      <td>0.098940</td>\n",
       "      <td>0.012237</td>\n",
       "      <td>-0.006920</td>\n",
       "      <td>0.017168</td>\n",
       "    </tr>\n",
       "    <tr>\n",
       "      <th>2018-01-04</th>\n",
       "      <td>0.006285</td>\n",
       "      <td>0.004634</td>\n",
       "      <td>0.048172</td>\n",
       "      <td>0.004466</td>\n",
       "      <td>-0.003160</td>\n",
       "      <td>0.016349</td>\n",
       "      <td>-0.067139</td>\n",
       "      <td>-0.010002</td>\n",
       "      <td>0.000333</td>\n",
       "      <td>0.007813</td>\n",
       "      <td>...</td>\n",
       "      <td>-0.005061</td>\n",
       "      <td>0.076961</td>\n",
       "      <td>0.005845</td>\n",
       "      <td>0.089612</td>\n",
       "      <td>0.006231</td>\n",
       "      <td>0.018018</td>\n",
       "      <td>0.056353</td>\n",
       "      <td>0.006734</td>\n",
       "      <td>-0.035339</td>\n",
       "      <td>0.016878</td>\n",
       "    </tr>\n",
       "    <tr>\n",
       "      <th>2018-01-05</th>\n",
       "      <td>-0.000380</td>\n",
       "      <td>0.011321</td>\n",
       "      <td>-0.020001</td>\n",
       "      <td>0.016033</td>\n",
       "      <td>-0.000633</td>\n",
       "      <td>0.031918</td>\n",
       "      <td>0.027399</td>\n",
       "      <td>0.026102</td>\n",
       "      <td>0.005908</td>\n",
       "      <td>-0.043745</td>\n",
       "      <td>...</td>\n",
       "      <td>-0.030391</td>\n",
       "      <td>-0.076961</td>\n",
       "      <td>0.029754</td>\n",
       "      <td>-0.058841</td>\n",
       "      <td>0.006192</td>\n",
       "      <td>0.000000</td>\n",
       "      <td>0.027029</td>\n",
       "      <td>-0.012154</td>\n",
       "      <td>0.089407</td>\n",
       "      <td>-0.047118</td>\n",
       "    </tr>\n",
       "    <tr>\n",
       "      <th>2018-01-08</th>\n",
       "      <td>-0.009926</td>\n",
       "      <td>-0.003721</td>\n",
       "      <td>0.033116</td>\n",
       "      <td>0.014322</td>\n",
       "      <td>0.003162</td>\n",
       "      <td>0.060933</td>\n",
       "      <td>0.002699</td>\n",
       "      <td>0.003910</td>\n",
       "      <td>0.002390</td>\n",
       "      <td>0.020121</td>\n",
       "      <td>...</td>\n",
       "      <td>-0.011573</td>\n",
       "      <td>0.039221</td>\n",
       "      <td>0.011060</td>\n",
       "      <td>-0.030772</td>\n",
       "      <td>0.006154</td>\n",
       "      <td>0.017700</td>\n",
       "      <td>-0.047791</td>\n",
       "      <td>-0.030347</td>\n",
       "      <td>-0.068053</td>\n",
       "      <td>0.017392</td>\n",
       "    </tr>\n",
       "    <tr>\n",
       "      <th>2018-01-09</th>\n",
       "      <td>-0.000960</td>\n",
       "      <td>-0.000115</td>\n",
       "      <td>-0.038179</td>\n",
       "      <td>0.004665</td>\n",
       "      <td>0.001892</td>\n",
       "      <td>-0.040206</td>\n",
       "      <td>0.042223</td>\n",
       "      <td>-0.006625</td>\n",
       "      <td>-0.013943</td>\n",
       "      <td>0.000000</td>\n",
       "      <td>...</td>\n",
       "      <td>-0.000529</td>\n",
       "      <td>-0.039221</td>\n",
       "      <td>0.000763</td>\n",
       "      <td>0.000000</td>\n",
       "      <td>-0.037504</td>\n",
       "      <td>0.017392</td>\n",
       "      <td>-0.520193</td>\n",
       "      <td>-0.026252</td>\n",
       "      <td>-0.096015</td>\n",
       "      <td>0.017094</td>\n",
       "    </tr>\n",
       "  </tbody>\n",
       "</table>\n",
       "<p>5 rows × 236 columns</p>\n",
       "</div>"
      ],
      "text/plain": [
       "                 AAL      AAPL       AMD      AMZN      ARCC      ATHX  \\\n",
       "Date                                                                     \n",
       "2018-01-03 -0.012342 -0.000174  0.050610  0.012694 -0.004407  0.005510   \n",
       "2018-01-04  0.006285  0.004634  0.048172  0.004466 -0.003160  0.016349   \n",
       "2018-01-05 -0.000380  0.011321 -0.020001  0.016033 -0.000633  0.031918   \n",
       "2018-01-08 -0.009926 -0.003721  0.033116  0.014322  0.003162  0.060933   \n",
       "2018-01-09 -0.000960 -0.000115 -0.038179  0.004665  0.001892 -0.040206   \n",
       "\n",
       "                ATRA      ATVI      AVGO      AXAS  ...      SQQQ      TOPS  \\\n",
       "Date                                                ...                       \n",
       "2018-01-03  0.061599  0.015430  0.010876 -0.003914  ... -0.029838  0.083382   \n",
       "2018-01-04 -0.067139 -0.010002  0.000333  0.007813  ... -0.005061  0.076961   \n",
       "2018-01-05  0.027399  0.026102  0.005908 -0.043745  ... -0.030391 -0.076961   \n",
       "2018-01-08  0.002699  0.003910  0.002390  0.020121  ... -0.011573  0.039221   \n",
       "2018-01-09  0.042223 -0.006625 -0.013943  0.000000  ... -0.000529 -0.039221   \n",
       "\n",
       "                TQQQ      TRNX      VISL      VXRT      WORX       XOG  \\\n",
       "Date                                                                     \n",
       "2018-01-03  0.028858 -0.030772  0.000000  0.018349  0.098940  0.012237   \n",
       "2018-01-04  0.005845  0.089612  0.006231  0.018018  0.056353  0.006734   \n",
       "2018-01-05  0.029754 -0.058841  0.006192  0.000000  0.027029 -0.012154   \n",
       "2018-01-08  0.011060 -0.030772  0.006154  0.017700 -0.047791 -0.030347   \n",
       "2018-01-09  0.000763  0.000000 -0.037504  0.017392 -0.520193 -0.026252   \n",
       "\n",
       "                XSPA        ZN  \n",
       "Date                            \n",
       "2018-01-03 -0.006920  0.017168  \n",
       "2018-01-04 -0.035339  0.016878  \n",
       "2018-01-05  0.089407 -0.047118  \n",
       "2018-01-08 -0.068053  0.017392  \n",
       "2018-01-09 -0.096015  0.017094  \n",
       "\n",
       "[5 rows x 236 columns]"
      ]
     },
     "execution_count": 67,
     "metadata": {},
     "output_type": "execute_result"
    }
   ],
   "source": [
    "R.head(5)"
   ]
  },
  {
   "cell_type": "code",
   "execution_count": 68,
   "metadata": {},
   "outputs": [
    {
     "data": {
      "text/plain": [
       "(470, 236)"
      ]
     },
     "execution_count": 68,
     "metadata": {},
     "output_type": "execute_result"
    }
   ],
   "source": [
    "R.shape"
   ]
  },
  {
   "cell_type": "code",
   "execution_count": 69,
   "metadata": {},
   "outputs": [],
   "source": [
    "Corr = R.corr()\n",
    "Cov = R.cov()"
   ]
  },
  {
   "cell_type": "markdown",
   "metadata": {},
   "source": [
    "## Нормальное распределение"
   ]
  },
  {
   "cell_type": "code",
   "execution_count": 71,
   "metadata": {},
   "outputs": [],
   "source": [
    "exp_path = './experiments/NASDAQ/mst/Normal'"
   ]
  },
  {
   "cell_type": "code",
   "execution_count": 72,
   "metadata": {},
   "outputs": [],
   "source": [
    "sampler = np.random.multivariate_normal\n",
    "reference_network = ns.create_network(R.corr().values)\n",
    "mean = [0] * Cov.shape[0] # СРЕДНЕЕ НОЛЬ\n"
   ]
  },
  {
   "cell_type": "code",
   "execution_count": 74,
   "metadata": {},
   "outputs": [
    {
     "name": "stderr",
     "output_type": "stream",
     "text": [
      "100%|██████████| 1/1 [06:26<00:00, 386.89s/it]\n"
     ]
    }
   ],
   "source": [
    "E_measures = dict()\n",
    "N_min=10\n",
    "N_max=20\n",
    "step = 10\n",
    "\n",
    "for N in tqdm(range(N_min,N_max,step)):\n",
    "    E_measures[int(N)] = ms.E_measure_MST(reference_network, sampler, sampler_params=[mean, Cov, N])\n",
    "    \n",
    "file =  exp_path + f'/mst_normal_{N_min}-{N_max}.json'\n",
    "with open(file, 'w') as f:\n",
    "    json.dump(E_measures, f) "
   ]
  },
  {
   "cell_type": "markdown",
   "metadata": {},
   "source": [
    "## Распределение Стьюдента"
   ]
  },
  {
   "cell_type": "code",
   "execution_count": 8,
   "metadata": {},
   "outputs": [],
   "source": [
    "sampler = ss.multivariate_t\n",
    "reference_network = ns.create_network(R.corr().values)\n",
    "mean = [0] * Cov.shape[0]\n",
    "df=3"
   ]
  },
  {
   "cell_type": "code",
   "execution_count": 10,
   "metadata": {},
   "outputs": [
    {
     "name": "stderr",
     "output_type": "stream",
     "text": [
      "1it [00:43, 43.34s/it]"
     ]
    },
    {
     "name": "stdout",
     "output_type": "stream",
     "text": [
      "0 2\n"
     ]
    },
    {
     "name": "stderr",
     "output_type": "stream",
     "text": [
      "2it [01:28, 43.85s/it]"
     ]
    },
    {
     "name": "stdout",
     "output_type": "stream",
     "text": [
      "1 3\n"
     ]
    },
    {
     "name": "stderr",
     "output_type": "stream",
     "text": [
      "3it [02:14, 44.90s/it]"
     ]
    },
    {
     "name": "stdout",
     "output_type": "stream",
     "text": [
      "2 4\n"
     ]
    },
    {
     "name": "stderr",
     "output_type": "stream",
     "text": [
      "\n"
     ]
    }
   ],
   "source": [
    "E_measures = dict()\n",
    "N_min=200\n",
    "N_max=400\n",
    "step = 100\n",
    "\n",
    "for i,N in tqdm(enumerate(range(2,5,1))):\n",
    "    E_measures[int(N)] = ms.E_measure_MST(reference_network, sampler, sampler_params=[mean, Cov, df, N])\n",
    "    print(i,N)\n",
    "    \n",
    "file =  f'./experiments/t_mst_DE/mst_t_{df}_{N_min}-{N_max}.json'\n",
    "with open(file, 'w') as f:\n",
    "    json.dump(E_measures, f) "
   ]
  },
  {
   "cell_type": "markdown",
   "metadata": {},
   "source": [
    "## Смешанное распределение"
   ]
  },
  {
   "cell_type": "code",
   "execution_count": 6,
   "metadata": {},
   "outputs": [],
   "source": [
    "sampler = ss.mixed_t_normal\n",
    "reference_network = ns.create_network(R.corr().values)\n",
    "mean = [0] * Cov.shape[0]\n",
    "df=3\n",
    "rat = 0.5"
   ]
  },
  {
   "cell_type": "code",
   "execution_count": 7,
   "metadata": {},
   "outputs": [
    {
     "name": "stderr",
     "output_type": "stream",
     "text": [
      "100%|██████████| 2/2 [01:28<00:00, 44.50s/it]\n"
     ]
    }
   ],
   "source": [
    "E_measures = dict()\n",
    "N_min=200\n",
    "N_max=400\n",
    "step = 100\n",
    "\n",
    "for N in tqdm(range(N_min,N_max,step)):\n",
    "    E_measures[int(N)] = ms.E_measure_MST(reference_network, sampler, sampler_params=[mean, Cov, df, N,rat])\n",
    "    \n",
    "file =  f'./experiments/mixed_mst_DE/mst_mixed_{df}_{rat}_{N_min}-{N_max}.json'\n",
    "with open(file, 'w') as f:\n",
    "    json.dump(E_measures, f) "
   ]
  },
  {
   "cell_type": "markdown",
   "metadata": {},
   "source": [
    "# NASDAQ"
   ]
  }
 ],
 "metadata": {
  "kernelspec": {
   "display_name": "Python 3",
   "language": "python",
   "name": "python3"
  },
  "language_info": {
   "codemirror_mode": {
    "name": "ipython",
    "version": 3
   },
   "file_extension": ".py",
   "mimetype": "text/x-python",
   "name": "python",
   "nbconvert_exporter": "python",
   "pygments_lexer": "ipython3",
   "version": "3.6.10"
  }
 },
 "nbformat": 4,
 "nbformat_minor": 4
}
