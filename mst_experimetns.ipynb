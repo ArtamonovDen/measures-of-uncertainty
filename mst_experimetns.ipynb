{
 "cells": [
  {
   "cell_type": "markdown",
   "metadata": {},
   "source": [
    "# Эксперименты с MST"
   ]
  },
  {
   "cell_type": "code",
   "execution_count": 1,
   "metadata": {},
   "outputs": [
    {
     "data": {
      "text/plain": [
       "<module 'k_scripts.measures_scripts' from '/home/friday/_homescript/measures-of-uncertainty/k_scripts/measures_scripts.py'>"
      ]
     },
     "execution_count": 1,
     "metadata": {},
     "output_type": "execute_result"
    }
   ],
   "source": [
    "import numpy as np\n",
    "import pandas as pd\n",
    "from datetime import datetime\n",
    "import networkx as nx\n",
    "import matplotlib.pyplot as plt\n",
    "import k_scripts.finance_scripts as fs\n",
    "import k_scripts.network_scripts as ns\n",
    "import k_scripts.sampler_scripts as ss\n",
    "import k_scripts.measures_scripts as ms\n",
    "import k_scripts.experiments_script as es\n",
    "import seaborn as sn\n",
    "from tqdm import tqdm\n",
    "import importlib\n",
    "import json \n",
    "\n",
    "importlib.reload(ns)\n",
    "importlib.reload(es)\n",
    "\n",
    "\n",
    "importlib.reload(ms)"
   ]
  },
  {
   "cell_type": "code",
   "execution_count": 2,
   "metadata": {},
   "outputs": [
    {
     "data": {
      "text/plain": [
       "<module 'k_scripts.sampler_scripts' from '/home/friday/_homescript/measures-of-uncertainty/k_scripts/sampler_scripts.py'>"
      ]
     },
     "execution_count": 2,
     "metadata": {},
     "output_type": "execute_result"
    }
   ],
   "source": [
    "importlib.reload(ss)"
   ]
  },
  {
   "cell_type": "code",
   "execution_count": 3,
   "metadata": {},
   "outputs": [],
   "source": [
    "path = './data/DE/DE_17-18_close.csv'\n",
    "dClose = pd.read_csv(path,index_col='Date')\n",
    "R = fs.get_daily_returns(dClose)\n",
    "R = R.drop(['LIN.DE'],axis=1)"
   ]
  },
  {
   "cell_type": "code",
   "execution_count": 4,
   "metadata": {},
   "outputs": [
    {
     "data": {
      "text/html": [
       "<div>\n",
       "<style scoped>\n",
       "    .dataframe tbody tr th:only-of-type {\n",
       "        vertical-align: middle;\n",
       "    }\n",
       "\n",
       "    .dataframe tbody tr th {\n",
       "        vertical-align: top;\n",
       "    }\n",
       "\n",
       "    .dataframe thead th {\n",
       "        text-align: right;\n",
       "    }\n",
       "</style>\n",
       "<table border=\"1\" class=\"dataframe\">\n",
       "  <thead>\n",
       "    <tr style=\"text-align: right;\">\n",
       "      <th></th>\n",
       "      <th>AAD.DE</th>\n",
       "      <th>ADS.DE</th>\n",
       "      <th>ADV.DE</th>\n",
       "      <th>AFX.DE</th>\n",
       "      <th>AIR.DE</th>\n",
       "      <th>ALV.DE</th>\n",
       "      <th>ARL.DE</th>\n",
       "      <th>BAS.DE</th>\n",
       "      <th>BAYN.DE</th>\n",
       "      <th>BC8.DE</th>\n",
       "      <th>...</th>\n",
       "      <th>SIE.DE</th>\n",
       "      <th>SIX2.DE</th>\n",
       "      <th>SKB.DE</th>\n",
       "      <th>SPR.DE</th>\n",
       "      <th>SZG.DE</th>\n",
       "      <th>SZU.DE</th>\n",
       "      <th>TEG.DE</th>\n",
       "      <th>TKA.DE</th>\n",
       "      <th>TTK.DE</th>\n",
       "      <th>UTDI.DE</th>\n",
       "    </tr>\n",
       "    <tr>\n",
       "      <th>Date</th>\n",
       "      <th></th>\n",
       "      <th></th>\n",
       "      <th></th>\n",
       "      <th></th>\n",
       "      <th></th>\n",
       "      <th></th>\n",
       "      <th></th>\n",
       "      <th></th>\n",
       "      <th></th>\n",
       "      <th></th>\n",
       "      <th></th>\n",
       "      <th></th>\n",
       "      <th></th>\n",
       "      <th></th>\n",
       "      <th></th>\n",
       "      <th></th>\n",
       "      <th></th>\n",
       "      <th></th>\n",
       "      <th></th>\n",
       "      <th></th>\n",
       "      <th></th>\n",
       "    </tr>\n",
       "  </thead>\n",
       "  <tbody>\n",
       "    <tr>\n",
       "      <th>2017-01-03</th>\n",
       "      <td>-0.005579</td>\n",
       "      <td>-0.013642</td>\n",
       "      <td>-0.008337</td>\n",
       "      <td>-0.008979</td>\n",
       "      <td>0.011232</td>\n",
       "      <td>0.014203</td>\n",
       "      <td>0.026694</td>\n",
       "      <td>-0.011338</td>\n",
       "      <td>0.005474</td>\n",
       "      <td>-0.022032</td>\n",
       "      <td>...</td>\n",
       "      <td>-0.014948</td>\n",
       "      <td>-0.004259</td>\n",
       "      <td>0.015531</td>\n",
       "      <td>-0.003213</td>\n",
       "      <td>0.007640</td>\n",
       "      <td>0.012044</td>\n",
       "      <td>-0.010776</td>\n",
       "      <td>0.002828</td>\n",
       "      <td>-0.005836</td>\n",
       "      <td>-0.002527</td>\n",
       "    </tr>\n",
       "    <tr>\n",
       "      <th>2017-01-04</th>\n",
       "      <td>-0.001229</td>\n",
       "      <td>-0.019280</td>\n",
       "      <td>-0.010147</td>\n",
       "      <td>-0.008207</td>\n",
       "      <td>-0.002205</td>\n",
       "      <td>0.005313</td>\n",
       "      <td>0.004313</td>\n",
       "      <td>0.005118</td>\n",
       "      <td>0.012821</td>\n",
       "      <td>-0.017237</td>\n",
       "      <td>...</td>\n",
       "      <td>-0.004312</td>\n",
       "      <td>-0.010334</td>\n",
       "      <td>-0.018550</td>\n",
       "      <td>-0.001181</td>\n",
       "      <td>0.000732</td>\n",
       "      <td>-0.003052</td>\n",
       "      <td>-0.000803</td>\n",
       "      <td>-0.015541</td>\n",
       "      <td>-0.004694</td>\n",
       "      <td>-0.008694</td>\n",
       "    </tr>\n",
       "    <tr>\n",
       "      <th>2017-01-05</th>\n",
       "      <td>0.006536</td>\n",
       "      <td>-0.014448</td>\n",
       "      <td>-0.010000</td>\n",
       "      <td>-0.003701</td>\n",
       "      <td>0.017968</td>\n",
       "      <td>0.001869</td>\n",
       "      <td>-0.005935</td>\n",
       "      <td>-0.004092</td>\n",
       "      <td>0.005858</td>\n",
       "      <td>-0.002902</td>\n",
       "      <td>...</td>\n",
       "      <td>-0.006503</td>\n",
       "      <td>0.004498</td>\n",
       "      <td>0.001278</td>\n",
       "      <td>0.005569</td>\n",
       "      <td>-0.002490</td>\n",
       "      <td>0.014953</td>\n",
       "      <td>0.007602</td>\n",
       "      <td>0.003743</td>\n",
       "      <td>0.037627</td>\n",
       "      <td>0.010690</td>\n",
       "    </tr>\n",
       "  </tbody>\n",
       "</table>\n",
       "<p>3 rows × 87 columns</p>\n",
       "</div>"
      ],
      "text/plain": [
       "              AAD.DE    ADS.DE    ADV.DE    AFX.DE    AIR.DE    ALV.DE  \\\n",
       "Date                                                                     \n",
       "2017-01-03 -0.005579 -0.013642 -0.008337 -0.008979  0.011232  0.014203   \n",
       "2017-01-04 -0.001229 -0.019280 -0.010147 -0.008207 -0.002205  0.005313   \n",
       "2017-01-05  0.006536 -0.014448 -0.010000 -0.003701  0.017968  0.001869   \n",
       "\n",
       "              ARL.DE    BAS.DE   BAYN.DE    BC8.DE  ...    SIE.DE   SIX2.DE  \\\n",
       "Date                                                ...                       \n",
       "2017-01-03  0.026694 -0.011338  0.005474 -0.022032  ... -0.014948 -0.004259   \n",
       "2017-01-04  0.004313  0.005118  0.012821 -0.017237  ... -0.004312 -0.010334   \n",
       "2017-01-05 -0.005935 -0.004092  0.005858 -0.002902  ... -0.006503  0.004498   \n",
       "\n",
       "              SKB.DE    SPR.DE    SZG.DE    SZU.DE    TEG.DE    TKA.DE  \\\n",
       "Date                                                                     \n",
       "2017-01-03  0.015531 -0.003213  0.007640  0.012044 -0.010776  0.002828   \n",
       "2017-01-04 -0.018550 -0.001181  0.000732 -0.003052 -0.000803 -0.015541   \n",
       "2017-01-05  0.001278  0.005569 -0.002490  0.014953  0.007602  0.003743   \n",
       "\n",
       "              TTK.DE   UTDI.DE  \n",
       "Date                            \n",
       "2017-01-03 -0.005836 -0.002527  \n",
       "2017-01-04 -0.004694 -0.008694  \n",
       "2017-01-05  0.037627  0.010690  \n",
       "\n",
       "[3 rows x 87 columns]"
      ]
     },
     "execution_count": 4,
     "metadata": {},
     "output_type": "execute_result"
    }
   ],
   "source": [
    "R.head(3)"
   ]
  },
  {
   "cell_type": "code",
   "execution_count": 5,
   "metadata": {},
   "outputs": [],
   "source": [
    "Corr = R.corr()\n",
    "Cov = R.cov()"
   ]
  },
  {
   "cell_type": "code",
   "execution_count": 24,
   "metadata": {},
   "outputs": [
    {
     "data": {
      "text/plain": [
       "(87, 87)"
      ]
     },
     "execution_count": 24,
     "metadata": {},
     "output_type": "execute_result"
    }
   ],
   "source": [
    "Cov.shape"
   ]
  },
  {
   "cell_type": "markdown",
   "metadata": {},
   "source": [
    "## Нормальное распределение"
   ]
  },
  {
   "cell_type": "code",
   "execution_count": 37,
   "metadata": {},
   "outputs": [],
   "source": [
    "sampler = np.random.multivariate_normal\n",
    "reference_network = ns.create_network(R.corr().values)\n",
    "mean = [0] * Cov.shape[0]\n"
   ]
  },
  {
   "cell_type": "code",
   "execution_count": 44,
   "metadata": {},
   "outputs": [
    {
     "name": "stderr",
     "output_type": "stream",
     "text": [
      "100%|██████████| 2/2 [01:28<00:00, 44.37s/it]\n"
     ]
    }
   ],
   "source": [
    "E_measures = dict()\n",
    "N_min=200\n",
    "N_max=400\n",
    "step = 100\n",
    "\n",
    "for N in tqdm(range(N_min,N_max,step)):\n",
    "    E_measures[int(N)] = ms.E_measure_MST(reference_network, sampler, sampler_params=[mean, Cov, N])\n",
    "    \n",
    "file =  f'./experiments/t_mst_DE/mst_normal_{N_min}-{N_max}.json'\n",
    "with open(file, 'w') as f:\n",
    "    json.dump(E_measures, f) "
   ]
  },
  {
   "cell_type": "markdown",
   "metadata": {},
   "source": [
    "## Распределение Стьюдента"
   ]
  },
  {
   "cell_type": "code",
   "execution_count": 46,
   "metadata": {},
   "outputs": [],
   "source": [
    "sampler = ss.multivariate_t\n",
    "reference_network = ns.create_network(R.corr().values)\n",
    "mean = [0] * Cov.shape[0]\n",
    "df=3"
   ]
  },
  {
   "cell_type": "code",
   "execution_count": 48,
   "metadata": {},
   "outputs": [
    {
     "name": "stderr",
     "output_type": "stream",
     "text": [
      "100%|██████████| 2/2 [01:46<00:00, 53.02s/it]\n"
     ]
    }
   ],
   "source": [
    "E_measures = dict()\n",
    "N_min=200\n",
    "N_max=400\n",
    "step = 100\n",
    "\n",
    "for N in tqdm(range(N_min,N_max,step)):\n",
    "    E_measures[int(N)] = ms.E_measure_MST(reference_network, sampler, sampler_params=[mean, Cov, df, N])\n",
    "    \n",
    "file =  f'./experiments/t_mst_DE/mst_t_{df}_{N_min}-{N_max}.json'\n",
    "with open(file, 'w') as f:\n",
    "    json.dump(E_measures, f) "
   ]
  },
  {
   "cell_type": "markdown",
   "metadata": {},
   "source": [
    "## Смешанное распределение"
   ]
  },
  {
   "cell_type": "code",
   "execution_count": 6,
   "metadata": {},
   "outputs": [],
   "source": [
    "sampler = ss.mixed_t_normal\n",
    "reference_network = ns.create_network(R.corr().values)\n",
    "mean = [0] * Cov.shape[0]\n",
    "df=3\n",
    "rat = 0.5"
   ]
  },
  {
   "cell_type": "code",
   "execution_count": 7,
   "metadata": {},
   "outputs": [
    {
     "name": "stderr",
     "output_type": "stream",
     "text": [
      "100%|██████████| 2/2 [01:28<00:00, 44.50s/it]\n"
     ]
    }
   ],
   "source": [
    "E_measures = dict()\n",
    "N_min=200\n",
    "N_max=400\n",
    "step = 100\n",
    "\n",
    "for N in tqdm(range(N_min,N_max,step)):\n",
    "    E_measures[int(N)] = ms.E_measure_MST(reference_network, sampler, sampler_params=[mean, Cov, df, N,rat])\n",
    "    \n",
    "file =  f'./experiments/mixed_mst_DE/mst_mixed_{df}_{rat}_{N_min}-{N_max}.json'\n",
    "with open(file, 'w') as f:\n",
    "    json.dump(E_measures, f) "
   ]
  },
  {
   "cell_type": "code",
   "execution_count": null,
   "metadata": {},
   "outputs": [],
   "source": []
  }
 ],
 "metadata": {
  "kernelspec": {
   "display_name": "Python 3",
   "language": "python",
   "name": "python3"
  },
  "language_info": {
   "codemirror_mode": {
    "name": "ipython",
    "version": 3
   },
   "file_extension": ".py",
   "mimetype": "text/x-python",
   "name": "python",
   "nbconvert_exporter": "python",
   "pygments_lexer": "ipython3",
   "version": "3.6.10"
  }
 },
 "nbformat": 4,
 "nbformat_minor": 4
}
